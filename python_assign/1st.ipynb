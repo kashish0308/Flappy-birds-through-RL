{
 "cells": [
  {
   "cell_type": "code",
   "execution_count": 1,
   "id": "77e9752e",
   "metadata": {},
   "outputs": [],
   "source": [
    "import numpy as np"
   ]
  },
  {
   "cell_type": "markdown",
   "id": "612beb3b",
   "metadata": {},
   "source": [
    "## ASSIGNMENT 1"
   ]
  },
  {
   "cell_type": "code",
   "execution_count": 2,
   "id": "ebf1c0af",
   "metadata": {},
   "outputs": [],
   "source": [
    "def c_to_f(c):\n",
    "\n",
    "    return c * 1.8 + 32.0"
   ]
  },
  {
   "cell_type": "code",
   "execution_count": 3,
   "id": "c4c98886",
   "metadata": {},
   "outputs": [],
   "source": [
    "def f_to_c(f):\n",
    "    return (f - 32.0) / 1.8"
   ]
  },
  {
   "cell_type": "code",
   "execution_count": null,
   "id": "f0703f0c",
   "metadata": {},
   "outputs": [],
   "source": [
    "def menu():\n",
    "    while True:\n",
    "        print(\"Temperature Conversion Menu:\")\n",
    "        print(\"1. Convert Celsius to Fahrenheit\")\n",
    "        print(\"2. Convert Fahrenheit to Celsius\")\n",
    "        print(\"3. Exit\")\n",
    "\n",
    "        choice = input(\"Enter your choice (1-3): \")\n",
    "\n",
    "        if choice == '1':\n",
    "            celsius = float(input(\"Enter temperature in Celsius: \"))\n",
    "            fahrenheit = c_to_f(celsius)\n",
    "            print(f\"{celsius}°C is {fahrenheit:.2f}°F\")\n",
    "        elif choice == '2':\n",
    "            fahrenheit = float(input(\"Enter temperature in Fahrenheit: \"))\n",
    "            celsius = f_to_c(fahrenheit)\n",
    "            print(f\"{fahrenheit}°F is {celsius:.2f}°C\")\n",
    "        elif choice == '3':\n",
    "            print(\"Exiting the program.\")\n",
    "            return\n",
    "        else:\n",
    "            print(\"Invalid choice. Please try again.\")  \n",
    "\n",
    "\n"
   ]
  },
  {
   "cell_type": "code",
   "execution_count": 6,
   "id": "4d292e7b",
   "metadata": {},
   "outputs": [
    {
     "name": "stdout",
     "output_type": "stream",
     "text": [
      "Temperature Conversion Menu:\n",
      "1. Convert Celsius to Fahrenheit\n",
      "2. Convert Fahrenheit to Celsius\n",
      "3. Exit\n",
      "3.0°C is 37.40°F\n",
      "Temperature Conversion Menu:\n",
      "1. Convert Celsius to Fahrenheit\n",
      "2. Convert Fahrenheit to Celsius\n",
      "3. Exit\n",
      "Exiting the program.\n"
     ]
    }
   ],
   "source": [
    "if __name__ == \"__main__\":\n",
    "    menu()"
   ]
  },
  {
   "cell_type": "markdown",
   "id": "e1d52471",
   "metadata": {},
   "source": [
    "## Assignment 2"
   ]
  },
  {
   "cell_type": "code",
   "execution_count": 11,
   "id": "0f77889b",
   "metadata": {},
   "outputs": [],
   "source": [
    "items = {\n",
    "    'apple': 30,\n",
    "    'banana': 10,\n",
    "    'milk': 50,\n",
    "    'bread': 40\n",
    "}\n"
   ]
  },
  {
   "cell_type": "code",
   "execution_count": 16,
   "id": "76ae310d",
   "metadata": {},
   "outputs": [],
   "source": [
    "def calculate_bill():\n",
    "    # Input item name and quantity\n",
    "    # Calculate total and apply discount if applicable\n",
    "    \n",
    "    total = 0\n",
    "\n",
    "    while True:\n",
    "        item = input(\"Enter item name (or 'done' to finish): \").strip().lower()\n",
    "        if item == 'done':\n",
    "            break\n",
    "        if item not in items:\n",
    "            print(f\"Item '{item}' not found. Please try again.\")\n",
    "            continue\n",
    "        \n",
    "        quantity = int(input(f\"Enter quantity for {item}: \"))\n",
    "        total += items[item] * quantity\n",
    "    \n",
    "    if total > 500:\n",
    "        discount = total * 0.1\n",
    "        total -= discount\n",
    "        print(f\"Discount applied: {discount:.2f}\")\n",
    "\n",
    "    print(f\"Total bill amount: {total:.2f}\")\n"
   ]
  },
  {
   "cell_type": "code",
   "execution_count": 15,
   "id": "ce7f3346",
   "metadata": {},
   "outputs": [
    {
     "name": "stdout",
     "output_type": "stream",
     "text": [
      "Item 'a' not found. Please try again.\n",
      "Total bill amount: 90.00\n"
     ]
    }
   ],
   "source": [
    "if __name__ == \"__main__\":\n",
    "    calculate_bill()"
   ]
  },
  {
   "cell_type": "markdown",
   "id": "03e76dbc",
   "metadata": {},
   "source": [
    "## Assignment 3"
   ]
  },
  {
   "cell_type": "code",
   "execution_count": 18,
   "id": "f060e7c9",
   "metadata": {},
   "outputs": [],
   "source": [
    "def calculate_grade(avg):\n",
    "    # Return grade based on average marks\n",
    "    if avg >= 90:\n",
    "        return 'A'\n",
    "    elif avg >= 75:\n",
    "        return 'B'\n",
    "    elif avg >= 50:\n",
    "        return 'C'\n",
    "    else:\n",
    "        return 'F'"
   ]
  },
  {
   "cell_type": "code",
   "execution_count": 26,
   "id": "0edce4f2",
   "metadata": {},
   "outputs": [],
   "source": [
    "def student_report():\n",
    "    # Input name and 3 subject marks\n",
    "    # Calculate average and display grade\n",
    "    \n",
    "    name = input(\"Enter student's name: \")\n",
    "    marks = []\n",
    "    for i in range(3):\n",
    "        mark = float(input(f\"Enter marks for subject {i+1}: \"))\n",
    "        marks.append(mark)\n",
    "    avg = np.mean(marks)\n",
    "    grade = calculate_grade(avg)\n",
    "    print(f\"Student Name: {name}\")\n",
    "    print(f\"Average Marks: {avg:.2f}\")\n",
    "    print(f\"Grade: {grade}\")\n"
   ]
  },
  {
   "cell_type": "code",
   "execution_count": 25,
   "id": "d5848e58",
   "metadata": {},
   "outputs": [
    {
     "name": "stdout",
     "output_type": "stream",
     "text": [
      "Student Name: abc\n",
      "Average Marks: 59.67\n",
      "Grade: C\n"
     ]
    }
   ],
   "source": [
    "if __name__ == \"__main__\":\n",
    "    student_report()"
   ]
  },
  {
   "cell_type": "markdown",
   "id": "e561383a",
   "metadata": {},
   "source": [
    "## Assignment 4"
   ]
  },
  {
   "cell_type": "code",
   "execution_count": 27,
   "id": "c8a33dec",
   "metadata": {},
   "outputs": [],
   "source": [
    "def login():\n",
    "    # Allow 3 tries for correct PIN\n",
    "    pin = \"1234\"\n",
    "    attempts = 0\n",
    "    while attempts < 3:\n",
    "        user_input = input(\"Enter your PIN: \")\n",
    "        if user_input == pin:\n",
    "            print(\"Login successful!\")\n",
    "            return True\n",
    "        else:\n",
    "            attempts += 1\n",
    "            print(f\"Incorrect PIN. You have {3 - attempts} attempts left.\")\n",
    "    print(\"Login failed. Please try again later.\")\n",
    "    return False"
   ]
  },
  {
   "cell_type": "code",
   "execution_count": 31,
   "id": "d3dad459",
   "metadata": {},
   "outputs": [],
   "source": [
    "def atm_menu():\n",
    "    # Handle ATM operations\n",
    "    if not login():\n",
    "        return\n",
    "    \n",
    "    balance = 1000  # Initial balance\n",
    "    transactions = []\n",
    "\n",
    "    while True:\n",
    "        print(\"\\nATM Menu:\")\n",
    "        print(\"1. Check Balance\")\n",
    "        print(\"2. Deposit Money\")\n",
    "        print(\"3. Withdraw Money\")\n",
    "        print(\"4. Exit\")\n",
    "\n",
    "        choice = input(\"Enter your choice (1-4): \")\n",
    "\n",
    "        if choice == '1':\n",
    "            print(f\"Current Balance: ${balance:.2f}\")\n",
    "        elif choice == '2':\n",
    "            amount = float(input(\"Enter amount to deposit: \"))\n",
    "            balance += amount\n",
    "            transactions.append(f\"Deposited: ${amount:.2f}\")\n",
    "            print(f\"Deposited ${amount:.2f}. New Balance: ${balance:.2f}\")\n",
    "        elif choice == '3':\n",
    "            amount = float(input(\"Enter amount to withdraw: \"))\n",
    "            if amount > balance:\n",
    "                print(\"Insufficient funds.\")\n",
    "            else:\n",
    "                balance -= amount\n",
    "                transactions.append(f\"Withdrew: ${amount:.2f}\")\n",
    "                print(f\"Withdrew ${amount:.2f}. New Balance: ${balance:.2f}\")\n",
    "        elif choice == '4':\n",
    "            print(\"Exiting ATM. Thank you!\")\n",
    "            print(\"Transaction History:\")\n",
    "            for transaction in transactions:\n",
    "                print(transaction)\n",
    "            break\n",
    "        else:\n",
    "            print(\"Invalid choice. Please try again.\")\n",
    "\n"
   ]
  },
  {
   "cell_type": "code",
   "execution_count": 32,
   "id": "d0f3da6a",
   "metadata": {},
   "outputs": [
    {
     "name": "stdout",
     "output_type": "stream",
     "text": [
      "Incorrect PIN. You have 2 attempts left.\n",
      "Incorrect PIN. You have 1 attempts left.\n",
      "Login successful!\n",
      "\n",
      "ATM Menu:\n",
      "1. Check Balance\n",
      "2. Deposit Money\n",
      "3. Withdraw Money\n",
      "4. Exit\n",
      "Current Balance: $1000.00\n",
      "\n",
      "ATM Menu:\n",
      "1. Check Balance\n",
      "2. Deposit Money\n",
      "3. Withdraw Money\n",
      "4. Exit\n",
      "Current Balance: $1000.00\n",
      "\n",
      "ATM Menu:\n",
      "1. Check Balance\n",
      "2. Deposit Money\n",
      "3. Withdraw Money\n",
      "4. Exit\n",
      "Deposited $234.00. New Balance: $1234.00\n",
      "\n",
      "ATM Menu:\n",
      "1. Check Balance\n",
      "2. Deposit Money\n",
      "3. Withdraw Money\n",
      "4. Exit\n",
      "Insufficient funds.\n",
      "\n",
      "ATM Menu:\n",
      "1. Check Balance\n",
      "2. Deposit Money\n",
      "3. Withdraw Money\n",
      "4. Exit\n",
      "Invalid choice. Please try again.\n",
      "\n",
      "ATM Menu:\n",
      "1. Check Balance\n",
      "2. Deposit Money\n",
      "3. Withdraw Money\n",
      "4. Exit\n",
      "Exiting ATM. Thank you!\n",
      "Transaction History:\n",
      "Deposited: $234.00\n"
     ]
    }
   ],
   "source": [
    "if __name__ == \"__main__\":\n",
    "    atm_menu()"
   ]
  },
  {
   "cell_type": "code",
   "execution_count": null,
   "id": "324bfd1a",
   "metadata": {},
   "outputs": [],
   "source": []
  }
 ],
 "metadata": {
  "kernelspec": {
   "display_name": "Python 3",
   "language": "python",
   "name": "python3"
  },
  "language_info": {
   "codemirror_mode": {
    "name": "ipython",
    "version": 3
   },
   "file_extension": ".py",
   "mimetype": "text/x-python",
   "name": "python",
   "nbconvert_exporter": "python",
   "pygments_lexer": "ipython3",
   "version": "3.11.9"
  }
 },
 "nbformat": 4,
 "nbformat_minor": 5
}
